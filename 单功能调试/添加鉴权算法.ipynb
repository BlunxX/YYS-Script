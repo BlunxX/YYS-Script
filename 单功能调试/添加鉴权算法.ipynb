{
 "metadata": {
  "language_info": {
   "codemirror_mode": {
    "name": "ipython",
    "version": 3
   },
   "file_extension": ".py",
   "mimetype": "text/x-python",
   "name": "python",
   "nbconvert_exporter": "python",
   "pygments_lexer": "ipython3",
   "version": "3.7.3-final"
  },
  "orig_nbformat": 2,
  "kernelspec": {
   "name": "python37364bitd3eeb2ea2edc4c2aa3ef7843f62515b2",
   "display_name": "Python 3.7.3 64-bit",
   "language": "python"
  }
 },
 "nbformat": 4,
 "nbformat_minor": 2,
 "cells": [
  {
   "cell_type": "code",
   "execution_count": 1,
   "metadata": {},
   "outputs": [
    {
     "output_type": "stream",
     "name": "stdout",
     "text": [
      "CSProduct: {'Caption': '计算机系统产品', 'Description': '计算机系统产品', 'IdentifyingNumber': 'Not Applicable                  ', 'Name': 'CW65S', 'SKUNumber': '', 'UUID': '2E5BFA80-0C3F-0000-0000-000000000000', 'Vendor': 'Hasee Computer', 'Version': 'Not Applicable'}\n2E5BFA80-0C3F-0000-0000-000000000000\n"
     ]
    }
   ],
   "source": [
    "# %% 通过接口获取主板信息\n",
    "# wmic csproduct get uuid  4C4C4544-0039-4C10-8059-C4C04F393332\n",
    "# pip install --upgrade iupdatable\n",
    "'''\n",
    "加密算法说明：\n",
    "    1. 先获取到机器主板的uuid信息\n",
    "    2. 获取到指定的过期时间\n",
    "    3. 将uuid + 关键字做md5计算，得到md5校验串\n",
    "    4. 将md5串和时间做为原始的串，做base64加密，得到加密串\n",
    "\n",
    "解密校验过程：\n",
    "    1. 获取加密串\n",
    "    2. base64解密得到 md5串 + 时间戳\n",
    "    3. 获取 uuid + 关键字，并做md5计算得到对比串，对比串和md5串做比较\n",
    "        如果串不匹配，再用通用的uuid串做比较，也不匹配，鉴权失败\n",
    "    4. 用当前时间和时间戳比对\n",
    "        当前时间大于时间戳，表示过期，鉴权失败\n",
    "        当前时间小于时间戳，表示还有效，鉴权成功\n",
    "'''\n",
    "\n",
    "# %% 获取全部信息\n",
    "from iupdatable.system.hardware import CSProduct\n",
    "cs_product = CSProduct.get()\n",
    "print(\"CSProduct: \" + str(cs_product))  # 一次性获取所有的CSProduct信息\n",
    "print(cs_product[\"UUID\"])"
   ]
  },
  {
   "cell_type": "code",
   "execution_count": 2,
   "metadata": {},
   "outputs": [
    {
     "output_type": "stream",
     "name": "stdout",
     "text": [
      "UUID: 2E5BFA80-0C3F-0000-0000-000000000000\n",
      "Caption: 计算机系统产品\n",
      "Description: 计算机系统产品\n",
      "IdentifyingNumber: Not Applicable                  \n",
      "Name: CW65S\n",
      "SKUNumber: \n",
      "Vendor: Hasee Computer\n",
      "Version: Not Applicable\n"
     ]
    }
   ],
   "source": [
    "# %% 使用各项函数单独获取\n",
    "print(\"UUID: \" + CSProduct.get_uuid())\n",
    "print(\"Caption: \" + CSProduct.get_caption())\n",
    "print(\"Description: \" + CSProduct.get_description())\n",
    "print(\"IdentifyingNumber: \" + CSProduct.get_identifying_number())\n",
    "print(\"Name: \" + CSProduct.get_name())\n",
    "print(\"SKUNumber: \" + CSProduct.get_sku_number())\n",
    "print(\"Vendor: \" + CSProduct.get_vendor())\n",
    "print(\"Version: \" + CSProduct.get_version())"
   ]
  },
  {
   "cell_type": "code",
   "execution_count": 5,
   "metadata": {},
   "outputs": [
    {
     "output_type": "stream",
     "name": "stdout",
     "text": [
      "1609425406 1611936000\n"
     ]
    }
   ],
   "source": [
    "# %% 封装具体时间转时间戳\n",
    "import time\n",
    "def transform_date_to_timestamp(year, month, day):\n",
    "    time_str = '{0}-{1}-{2}'.format(year, month, day)\n",
    "    data_sj = time.strptime(time_str,\"%Y-%m-%d\")\n",
    "    return int(time.mktime(data_sj))\n",
    "cur_timestamp = int(time.time())\n",
    "end_timestamp = transform_date_to_timestamp(2021, 1, 30)\n",
    "print(cur_timestamp, end_timestamp)"
   ]
  },
  {
   "cell_type": "code",
   "execution_count": 3,
   "metadata": {},
   "outputs": [
    {
     "output_type": "stream",
     "name": "stdout",
     "text": [
      "000000000000\n"
     ]
    }
   ],
   "source": [
    "# %% 获取UUID封装成函数\n",
    "def get_machine_uuid():\n",
    "    return CSProduct.get()[\"UUID\"][-12::]\n",
    "print(get_machine_uuid())\n"
   ]
  },
  {
   "cell_type": "code",
   "execution_count": 7,
   "metadata": {},
   "outputs": [
    {
     "output_type": "stream",
     "name": "stdout",
     "text": [
      "000000000000-1611936000 ad8e380372933368a1292262609a0b8d\n"
     ]
    }
   ],
   "source": [
    "# %% 封装获取md5算法的函数\n",
    "import hashlib\n",
    "\n",
    "def get_md5(orig_str):\n",
    "    m = hashlib.md5()\n",
    "    m.update(orig_str.encode('utf-8'))\n",
    "    return m.hexdigest()\n",
    "print(orig_str, get_md5(orig_str))"
   ]
  },
  {
   "cell_type": "code",
   "execution_count": 6,
   "metadata": {},
   "outputs": [
    {
     "output_type": "stream",
     "name": "stdout",
     "text": [
      "000000000000-1611936000\n000000000000-1611936000 MDAwMDAwMDAwMDAwLTE2MTE5MzYwMDA= 000000000000-1611936000\n"
     ]
    }
   ],
   "source": [
    "# %% base64加密\n",
    "orig_str = '{0}-{1}'.format(get_machine_uuid(), transform_date_to_timestamp(2021, 1, 30))\n",
    "print(orig_str)\n",
    "\n",
    "import base64\n",
    "encoded_str = base64.b64encode(orig_str.encode('utf-8')).decode()\n",
    "decode_str = base64.b64decode(encoded_str.encode('utf-8')).decode()\n",
    "print(orig_str, encoded_str, decode_str)"
   ]
  },
  {
   "cell_type": "code",
   "execution_count": 8,
   "metadata": {},
   "outputs": [],
   "source": [
    "# %% 封装生成加密串的函数和解密串的函数\n",
    "def get_licence(uuid, year, month, day):\n",
    "    # 先获取时间戳\n",
    "    timestamp = transform_date_to_timestamp(year, month, day)\n",
    "\n",
    "    # 获取md5\n",
    "    md5 = get_md5(uuid + 'kiddo')\n",
    "    orig_str = '{0}_{1}'.format(md5, timestamp)\n",
    "\n",
    "    # 获取base64编码\n",
    "    encode_str = base64.b64encode(orig_str.encode('utf-8')).decode()\n",
    "    print('加密用的关键信息：', timestamp, orig_str, encoded_str)\n",
    "    return encode_str\n",
    "\n",
    "def check_license(encode_str):\n",
    "    decode_str = base64.b64decode(encode_str.encode('utf-8')).decode()\n",
    "    print('解密串是：', decode_str)\n",
    "    elements = decode_str.split('_')\n",
    "    if len(elements) != 2:\n",
    "        return False\n",
    "    md5, timestamp = elements[0], int(elements[1])\n",
    "    print('从licence中获取到的信息：md5={0}, time={1}'.format(md5, timestamp))\n",
    "    # 获取uuid，并根据关键字计算出md5\n",
    "    local_md5 = get_md5(get_machine_uuid() + 'kiddo')\n",
    "    if md5 != local_md5:\n",
    "        print('md5，{0} != {1}'.format(md5, local_md5))\n",
    "        local_md5 = get_md5('AB0123456789' + 'kiddo')\n",
    "        if md5 != local_md5:\n",
    "            return False\n",
    "        print('匹配上了通用的uuid，{0}'.format(md5))\n",
    "\n",
    "    # 检查时间戳\n",
    "    local_timestamp = int(time.time())\n",
    "    if local_timestamp > timestamp:\n",
    "        print('timestamp，{0} < {1}'.format(timestamp, local_timestamp))\n",
    "        return False\n",
    "    print(encode_str + '鉴权成功')\n",
    "    return True\n",
    "\n"
   ]
  },
  {
   "cell_type": "code",
   "execution_count": 9,
   "metadata": {},
   "outputs": [
    {
     "output_type": "stream",
     "name": "stdout",
     "text": [
      "加密用的关键信息： 1611936000 33b0e1a23e2f6fb868d8e39f6b957830_1611936000 MDAwMDAwMDAwMDAwLTE2MTE5MzYwMDA=\n",
      "解密串是： 33b0e1a23e2f6fb868d8e39f6b957830_1611936000\n",
      "从licence中获取到的信息：md5=33b0e1a23e2f6fb868d8e39f6b957830, time=1611936000\n",
      "MzNiMGUxYTIzZTJmNmZiODY4ZDhlMzlmNmI5NTc4MzBfMTYxMTkzNjAwMA==鉴权成功\n",
      "检查的licence:  MzNiMGUxYTIzZTJmNmZiODY4ZDhlMzlmNmI5NTc4MzBfMTYxMTkzNjAwMA== True\n",
      "加密用的关键信息： 1580313600 33b0e1a23e2f6fb868d8e39f6b957830_1580313600 MDAwMDAwMDAwMDAwLTE2MTE5MzYwMDA=\n",
      "解密串是： 33b0e1a23e2f6fb868d8e39f6b957830_1580313600\n",
      "从licence中获取到的信息：md5=33b0e1a23e2f6fb868d8e39f6b957830, time=1580313600\n",
      "timestamp，1580313600 < 1609425684\n",
      "检查的licence:  MzNiMGUxYTIzZTJmNmZiODY4ZDhlMzlmNmI5NTc4MzBfMTU4MDMxMzYwMA== False\n",
      "加密用的关键信息： 1611936000 9d7ae2fba1d199d03d00c220856896f3_1611936000 MDAwMDAwMDAwMDAwLTE2MTE5MzYwMDA=\n",
      "解密串是： 9d7ae2fba1d199d03d00c220856896f3_1611936000\n",
      "从licence中获取到的信息：md5=9d7ae2fba1d199d03d00c220856896f3, time=1611936000\n",
      "md5，9d7ae2fba1d199d03d00c220856896f3 != 33b0e1a23e2f6fb868d8e39f6b957830\n",
      "匹配上了通用的uuid，9d7ae2fba1d199d03d00c220856896f3\n",
      "OWQ3YWUyZmJhMWQxOTlkMDNkMDBjMjIwODU2ODk2ZjNfMTYxMTkzNjAwMA==鉴权成功\n",
      "检查的licence:  OWQ3YWUyZmJhMWQxOTlkMDNkMDBjMjIwODU2ODk2ZjNfMTYxMTkzNjAwMA== True\n",
      "加密用的关键信息： 1611936000 9c114913069dd3860e2152d58037d2ef_1611936000 MDAwMDAwMDAwMDAwLTE2MTE5MzYwMDA=\n",
      "解密串是： 9c114913069dd3860e2152d58037d2ef_1611936000\n",
      "从licence中获取到的信息：md5=9c114913069dd3860e2152d58037d2ef, time=1611936000\n",
      "md5，9c114913069dd3860e2152d58037d2ef != 33b0e1a23e2f6fb868d8e39f6b957830\n",
      "检查的licence:  OWMxMTQ5MTMwNjlkZDM4NjBlMjE1MmQ1ODAzN2QyZWZfMTYxMTkzNjAwMA== False\n",
      "加密用的关键信息： 1580313600 9d7ae2fba1d199d03d00c220856896f3_1580313600 MDAwMDAwMDAwMDAwLTE2MTE5MzYwMDA=\n",
      "解密串是： 9d7ae2fba1d199d03d00c220856896f3_1580313600\n",
      "从licence中获取到的信息：md5=9d7ae2fba1d199d03d00c220856896f3, time=1580313600\n",
      "md5，9d7ae2fba1d199d03d00c220856896f3 != 33b0e1a23e2f6fb868d8e39f6b957830\n",
      "匹配上了通用的uuid，9d7ae2fba1d199d03d00c220856896f3\n",
      "timestamp，1580313600 < 1609425685\n",
      "检查的licence:  OWQ3YWUyZmJhMWQxOTlkMDNkMDBjMjIwODU2ODk2ZjNfMTU4MDMxMzYwMA== False\n"
     ]
    }
   ],
   "source": [
    "licence = get_licence(get_machine_uuid(), 2021, 1, 30)\n",
    "print('检查的licence: ', licence, check_license(licence))  # 成功\n",
    "\n",
    "licence = get_licence(get_machine_uuid(), 2020, 1, 30)\n",
    "print('检查的licence: ', licence, check_license(licence))\n",
    "\n",
    "licence = get_licence('AB0123456789', 2021, 1, 30)\n",
    "print('检查的licence: ', licence, check_license(licence))  # 成功\n",
    "\n",
    "licence = get_licence('error_uuid', 2021, 1, 30)\n",
    "print('检查的licence: ', licence, check_license(licence))\n",
    "\n",
    "licence = get_licence('AB0123456789', 2020, 1, 30)\n",
    "print('检查的licence: ', licence, check_license(licence))"
   ]
  },
  {
   "cell_type": "code",
   "execution_count": null,
   "metadata": {},
   "outputs": [],
   "source": []
  }
 ]
}